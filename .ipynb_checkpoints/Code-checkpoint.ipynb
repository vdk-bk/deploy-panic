{
 "cells": [
  {
   "cell_type": "code",
   "execution_count": null,
   "id": "993bed83",
   "metadata": {},
   "outputs": [],
   "source": [
    "from sklearn.preprocessing import StandardScaler\n",
    "from sklearn.metrics import classification_report\n",
    "from sklearn.preprocessing import LabelEncoder\n",
    "from sklearn.preprocessing import OneHotEncoder\n",
    "from sklearn.model_selection import train_test_split\n",
    "from sklearn.ensemble import GradientBoostingClassifier\n",
    "from sklearn.metrics import accuracy_score\n",
    "from sklearn.metrics import confusion_matrix\n",
    "import matplotlib.pyplot as plt\n",
    "import seaborn as sns\n",
    "import numpy as np \n",
    "import pandas as pd"
   ]
  },
  {
   "cell_type": "code",
   "execution_count": null,
   "id": "44f3db09",
   "metadata": {},
   "outputs": [],
   "source": [
    "data = pd.read_csv('panic_disorder_dataset_testing.csv')"
   ]
  },
  {
   "cell_type": "code",
   "execution_count": null,
   "id": "d62ddba2",
   "metadata": {},
   "outputs": [],
   "source": [
    "data"
   ]
  },
  {
   "cell_type": "code",
   "execution_count": null,
   "id": "dd634706",
   "metadata": {},
   "outputs": [],
   "source": [
    "new_data = data.drop(columns=['Participant ID','Family History','Psychiatric History','Substance Use','Demographics','Coping Mechanisms','Social Support','Impact on Life','Personal History','Current Stressors'])"
   ]
  },
  {
   "cell_type": "code",
   "execution_count": null,
   "id": "82ccfa61",
   "metadata": {},
   "outputs": [],
   "source": [
    "new_data"
   ]
  },
  {
   "cell_type": "code",
   "execution_count": null,
   "id": "7f31edb3",
   "metadata": {},
   "outputs": [],
   "source": [
    "#splitting values "
   ]
  },
  {
   "cell_type": "code",
   "execution_count": null,
   "id": "62f875c0",
   "metadata": {},
   "outputs": [],
   "source": [
    "y = data['Panic Disorder Diagnosis']"
   ]
  },
  {
   "cell_type": "code",
   "execution_count": null,
   "id": "228955ed",
   "metadata": {},
   "outputs": [],
   "source": [
    "y"
   ]
  },
  {
   "cell_type": "code",
   "execution_count": null,
   "id": "6a09622c",
   "metadata": {},
   "outputs": [],
   "source": [
    "label_encoder = LabelEncoder()\n",
    "\n",
    "# Iterate through each column in the DataFrame\n",
    "for col in new_data.columns:\n",
    "    # Encode only categorical columns\n",
    "    if new_data[col].dtype == 'object':\n",
    "        new_data[col] = label_encoder.fit_transform(new_data[col])"
   ]
  },
  {
   "cell_type": "code",
   "execution_count": null,
   "id": "eb7816ea",
   "metadata": {},
   "outputs": [],
   "source": [
    "new_data"
   ]
  },
  {
   "cell_type": "code",
   "execution_count": null,
   "id": "09123b00",
   "metadata": {},
   "outputs": [],
   "source": [
    "X = new_data.drop(columns=['Panic Disorder Diagnosis'],axis = 1)"
   ]
  },
  {
   "cell_type": "code",
   "execution_count": null,
   "id": "f94d2137",
   "metadata": {},
   "outputs": [],
   "source": [
    "X"
   ]
  },
  {
   "cell_type": "code",
   "execution_count": null,
   "id": "927df1d4",
   "metadata": {},
   "outputs": [],
   "source": [
    "from sklearn.model_selection import train_test_split\n",
    "x_train,x_test,y_train,y_test=train_test_split(X,y,test_size=0.2, random_state=42)"
   ]
  },
  {
   "cell_type": "code",
   "execution_count": null,
   "id": "18564650",
   "metadata": {},
   "outputs": [],
   "source": [
    "sc = StandardScaler()"
   ]
  },
  {
   "cell_type": "code",
   "execution_count": null,
   "id": "9a7a37de",
   "metadata": {},
   "outputs": [],
   "source": [
    "xtrain_scaled= sc.fit_transform(x_train)\n",
    "xtest_scaled = sc.transform(x_test)"
   ]
  },
  {
   "cell_type": "code",
   "execution_count": null,
   "id": "da69aac8",
   "metadata": {},
   "outputs": [],
   "source": [
    "x_train.shape"
   ]
  },
  {
   "cell_type": "code",
   "execution_count": null,
   "id": "ac61293a",
   "metadata": {},
   "outputs": [],
   "source": [
    "x_train.head()"
   ]
  },
  {
   "cell_type": "code",
   "execution_count": null,
   "id": "25a1f595",
   "metadata": {},
   "outputs": [],
   "source": [
    "xtrain_scaled\n",
    "xtest_scaled"
   ]
  },
  {
   "cell_type": "code",
   "execution_count": null,
   "id": "26464026",
   "metadata": {},
   "outputs": [],
   "source": [
    "from sklearn.ensemble import RandomForestClassifier"
   ]
  },
  {
   "cell_type": "code",
   "execution_count": null,
   "id": "ea975fe6",
   "metadata": {},
   "outputs": [],
   "source": [
    "rfm = RandomForestClassifier()"
   ]
  },
  {
   "cell_type": "markdown",
   "id": "cd2b151e",
   "metadata": {},
   "source": [
    "# Model Training"
   ]
  },
  {
   "cell_type": "code",
   "execution_count": null,
   "id": "e69891d0",
   "metadata": {},
   "outputs": [],
   "source": [
    "rfm.fit(xtrain_scaled,y_train)"
   ]
  },
  {
   "cell_type": "markdown",
   "id": "e75e3a93",
   "metadata": {},
   "source": [
    "# Model Prediction"
   ]
  },
  {
   "cell_type": "code",
   "execution_count": null,
   "id": "cf2c450f",
   "metadata": {},
   "outputs": [],
   "source": [
    "y_pred = rfm.predict(xtest_scaled)"
   ]
  },
  {
   "cell_type": "code",
   "execution_count": null,
   "id": "bcb0f503",
   "metadata": {},
   "outputs": [],
   "source": [
    "y_pred"
   ]
  },
  {
   "cell_type": "markdown",
   "id": "83009df9",
   "metadata": {},
   "source": [
    "# Confusion Matrix"
   ]
  },
  {
   "cell_type": "code",
   "execution_count": null,
   "id": "93c108e0",
   "metadata": {},
   "outputs": [],
   "source": [
    "cm = confusion_matrix(y_test,y_pred)"
   ]
  },
  {
   "cell_type": "code",
   "execution_count": null,
   "id": "24f5a129",
   "metadata": {},
   "outputs": [],
   "source": [
    "cm"
   ]
  },
  {
   "cell_type": "code",
   "execution_count": null,
   "id": "bd0e535e",
   "metadata": {},
   "outputs": [],
   "source": [
    "sns.heatmap(cm , annot = True)"
   ]
  },
  {
   "cell_type": "code",
   "execution_count": null,
   "id": "921c011a",
   "metadata": {},
   "outputs": [],
   "source": [
    "accuracy = accuracy_score(y_test,y_pred)"
   ]
  },
  {
   "cell_type": "code",
   "execution_count": null,
   "id": "bffa38fc",
   "metadata": {},
   "outputs": [],
   "source": [
    "accuracy"
   ]
  },
  {
   "cell_type": "code",
   "execution_count": null,
   "id": "8b9ce4ec",
   "metadata": {},
   "outputs": [],
   "source": [
    "print(classification_report(y_test,y_pred))"
   ]
  },
  {
   "cell_type": "markdown",
   "id": "72a6b403",
   "metadata": {},
   "source": [
    "# Hyper Parametre Tuning"
   ]
  },
  {
   "cell_type": "code",
   "execution_count": null,
   "id": "3c2fb1f9",
   "metadata": {},
   "outputs": [],
   "source": [
    "from sklearn.model_selection import GridSearchCV, RandomizedSearchCV"
   ]
  },
  {
   "cell_type": "code",
   "execution_count": null,
   "id": "44c4a158",
   "metadata": {},
   "outputs": [],
   "source": [
    "parameters ={\n",
    "    'n_estimators':[50,100],\n",
    "    'max_features':['sqrt','log2',None]\n",
    "}"
   ]
  },
  {
   "cell_type": "code",
   "execution_count": null,
   "id": "b097ed14",
   "metadata": {},
   "outputs": [],
   "source": [
    "gd = GridSearchCV(estimator=rfm,param_grid=parameters)"
   ]
  },
  {
   "cell_type": "code",
   "execution_count": null,
   "id": "0002f516",
   "metadata": {},
   "outputs": [],
   "source": [
    "gd.fit(xtrain_scaled,y_train)"
   ]
  },
  {
   "cell_type": "code",
   "execution_count": null,
   "id": "e234976e",
   "metadata": {},
   "outputs": [],
   "source": [
    "gd.best_params_"
   ]
  },
  {
   "cell_type": "markdown",
   "id": "8da747b1",
   "metadata": {},
   "source": [
    "# Building new Model with best parameters"
   ]
  },
  {
   "cell_type": "code",
   "execution_count": null,
   "id": "705266ed",
   "metadata": {},
   "outputs": [],
   "source": [
    "new_rfm = RandomForestClassifier(max_features = None,n_estimators = 100)"
   ]
  },
  {
   "cell_type": "code",
   "execution_count": null,
   "id": "0da6b702",
   "metadata": {},
   "outputs": [],
   "source": [
    "new_rfm.fit(xtrain_scaled,y_train)"
   ]
  },
  {
   "cell_type": "code",
   "execution_count": null,
   "id": "c52e8cdf",
   "metadata": {},
   "outputs": [],
   "source": [
    "#prediction"
   ]
  },
  {
   "cell_type": "code",
   "execution_count": null,
   "id": "6819e6db",
   "metadata": {},
   "outputs": [],
   "source": [
    "y_pred1 = new_rfm.predict(xtest_scaled)"
   ]
  },
  {
   "cell_type": "code",
   "execution_count": null,
   "id": "c0e2e284",
   "metadata": {},
   "outputs": [],
   "source": [
    "y_pred1"
   ]
  },
  {
   "cell_type": "code",
   "execution_count": null,
   "id": "035b1979",
   "metadata": {},
   "outputs": [],
   "source": [
    "accuracy = accuracy_score(y_test,y_pred1)"
   ]
  },
  {
   "cell_type": "code",
   "execution_count": null,
   "id": "9471643f",
   "metadata": {},
   "outputs": [],
   "source": [
    "accuracy"
   ]
  },
  {
   "cell_type": "code",
   "execution_count": null,
   "id": "b3032bd2",
   "metadata": {},
   "outputs": [],
   "source": [
    " import pickle\n",
    "pickle.dump(new_rfm , open( \"model.pkl\" , 'wb' ) )"
   ]
  },
  {
   "cell_type": "code",
   "execution_count": null,
   "id": "6651dbc3",
   "metadata": {},
   "outputs": [],
   "source": [
    "#p = new_rfm.predict([[41,1,4,0,1,1]])"
   ]
  },
  {
   "cell_type": "code",
   "execution_count": null,
   "id": "ab2055b3",
   "metadata": {},
   "outputs": [],
   "source": [
    "#p"
   ]
  },
  {
   "cell_type": "code",
   "execution_count": null,
   "id": "33c248b5",
   "metadata": {},
   "outputs": [],
   "source": [
    "\n"
   ]
  },
  {
   "cell_type": "code",
   "execution_count": null,
   "id": "af734c84",
   "metadata": {},
   "outputs": [],
   "source": []
  }
 ],
 "metadata": {
  "kernelspec": {
   "display_name": "Python 3 (ipykernel)",
   "language": "python",
   "name": "python3"
  },
  "language_info": {
   "codemirror_mode": {
    "name": "ipython",
    "version": 3
   },
   "file_extension": ".py",
   "mimetype": "text/x-python",
   "name": "python",
   "nbconvert_exporter": "python",
   "pygments_lexer": "ipython3",
   "version": "3.11.5"
  }
 },
 "nbformat": 4,
 "nbformat_minor": 5
}
